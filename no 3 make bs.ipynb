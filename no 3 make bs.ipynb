{
 "cells": [
  {
   "cell_type": "code",
   "execution_count": 1,
   "metadata": {},
   "outputs": [
    {
     "name": "stderr",
     "output_type": "stream",
     "text": [
      "d:\\Python\\lib\\site-packages\\numpy\\_distributor_init.py:30: UserWarning: loaded more than 1 DLL from .libs:\n",
      "d:\\Python\\lib\\site-packages\\numpy\\.libs\\libopenblas.FB5AE2TYXYH2IJRDKGDGQ3XBKLKTF43H.gfortran-win_amd64.dll\n",
      "d:\\Python\\lib\\site-packages\\numpy\\.libs\\libopenblas64__v0.3.23-246-g3d31191b-gcc_10_3_0.dll\n",
      "  warnings.warn(\"loaded more than 1 DLL from .libs:\"\n"
     ]
    }
   ],
   "source": [
    "from bs4 import BeautifulSoup as bs\n",
    "from tqdm import tqdm\n",
    "\n",
    "import pandas as pd\n",
    "import requests"
   ]
  },
  {
   "cell_type": "code",
   "execution_count": 17,
   "metadata": {},
   "outputs": [
    {
     "name": "stdout",
     "output_type": "stream",
     "text": [
      "scraping page 1\n"
     ]
    },
    {
     "name": "stderr",
     "output_type": "stream",
     "text": [
      "100%|██████████| 24/24 [00:31<00:00,  1.31s/it]\n"
     ]
    },
    {
     "name": "stdout",
     "output_type": "stream",
     "text": [
      "scraping page 2\n"
     ]
    },
    {
     "name": "stderr",
     "output_type": "stream",
     "text": [
      "100%|██████████| 24/24 [00:39<00:00,  1.64s/it]\n"
     ]
    },
    {
     "name": "stdout",
     "output_type": "stream",
     "text": [
      "scraping page 3\n"
     ]
    },
    {
     "name": "stderr",
     "output_type": "stream",
     "text": [
      "100%|██████████| 24/24 [00:55<00:00,  2.31s/it]\n"
     ]
    },
    {
     "name": "stdout",
     "output_type": "stream",
     "text": [
      "scraping page 4\n"
     ]
    },
    {
     "name": "stderr",
     "output_type": "stream",
     "text": [
      "100%|██████████| 24/24 [01:02<00:00,  2.60s/it]\n"
     ]
    },
    {
     "name": "stdout",
     "output_type": "stream",
     "text": [
      "scraping page 5\n"
     ]
    },
    {
     "name": "stderr",
     "output_type": "stream",
     "text": [
      "100%|██████████| 24/24 [00:58<00:00,  2.45s/it]\n"
     ]
    },
    {
     "name": "stdout",
     "output_type": "stream",
     "text": [
      "scraping page 6\n"
     ]
    },
    {
     "name": "stderr",
     "output_type": "stream",
     "text": [
      "100%|██████████| 24/24 [00:48<00:00,  2.00s/it]\n"
     ]
    },
    {
     "name": "stdout",
     "output_type": "stream",
     "text": [
      "scraping page 7\n"
     ]
    },
    {
     "name": "stderr",
     "output_type": "stream",
     "text": [
      " 33%|███▎      | 8/24 [00:20<00:40,  2.54s/it]\n"
     ]
    },
    {
     "ename": "AttributeError",
     "evalue": "'NoneType' object has no attribute 'text'",
     "output_type": "error",
     "traceback": [
      "\u001b[1;31m---------------------------------------------------------------------------\u001b[0m",
      "\u001b[1;31mAttributeError\u001b[0m                            Traceback (most recent call last)",
      "\u001b[1;32md:\\Code\\Project\\Python\\najla\\scrapingtry\\coba.ipynb Cell 2\u001b[0m line \u001b[0;36m2\n\u001b[0;32m     <a href='vscode-notebook-cell:/d%3A/Code/Project/Python/najla/scrapingtry/coba.ipynb#W1sZmlsZQ%3D%3D?line=19'>20</a>\u001b[0m \u001b[39mexcept\u001b[39;00m:\n\u001b[0;32m     <a href='vscode-notebook-cell:/d%3A/Code/Project/Python/najla/scrapingtry/coba.ipynb#W1sZmlsZQ%3D%3D?line=20'>21</a>\u001b[0m     title \u001b[39m=\u001b[39m soup\u001b[39m.\u001b[39mfind(\u001b[39m\"\u001b[39m\u001b[39mtitle\u001b[39m\u001b[39m\"\u001b[39m)\u001b[39m.\u001b[39mtext\n\u001b[1;32m---> <a href='vscode-notebook-cell:/d%3A/Code/Project/Python/najla/scrapingtry/coba.ipynb#W1sZmlsZQ%3D%3D?line=21'>22</a>\u001b[0m price \u001b[39m=\u001b[39m soup\u001b[39m.\u001b[39;49mfind(\u001b[39m\"\u001b[39;49m\u001b[39mspan\u001b[39;49m\u001b[39m\"\u001b[39;49m, class_\u001b[39m=\u001b[39;49m\u001b[39m\"\u001b[39;49m\u001b[39mpsw-t-title-m\u001b[39;49m\u001b[39m\"\u001b[39;49m)\u001b[39m.\u001b[39;49mtext\n\u001b[0;32m     <a href='vscode-notebook-cell:/d%3A/Code/Project/Python/najla/scrapingtry/coba.ipynb#W1sZmlsZQ%3D%3D?line=22'>23</a>\u001b[0m titles\u001b[39m.\u001b[39mappend(title)\n\u001b[0;32m     <a href='vscode-notebook-cell:/d%3A/Code/Project/Python/najla/scrapingtry/coba.ipynb#W1sZmlsZQ%3D%3D?line=23'>24</a>\u001b[0m prices\u001b[39m.\u001b[39mappend(price)\n",
      "\u001b[1;31mAttributeError\u001b[0m: 'NoneType' object has no attribute 'text'"
     ]
    }
   ],
   "source": [
    "all_titles = []\n",
    "all_prices = []\n",
    "\n",
    "for i in range(1, 17):\n",
    "    print(f\"scraping page {i}\")\n",
    "    base_url = f\"https://store.playstation.com/en-id/category/05a2d027-cedc-4ac0-abeb-8fc26fec7180/{i}\"\n",
    "    response = requests.get(base_url)\n",
    "    soup = bs(response.content, \"html.parser\")\n",
    "\n",
    "    all_links = soup.find_all(\"a\", class_=\"psw-content-link\", href=True)\n",
    "    all_links = [\"https://store.playstation.com\" + link[\"href\"] for link in all_links]\n",
    "\n",
    "    titles = []\n",
    "    prices = []\n",
    "    for link in tqdm(all_links):\n",
    "        response = requests.get(link)\n",
    "        soup = bs(response.content, \"html.parser\")\n",
    "        try:\n",
    "            title = soup.find(\"h1\", class_=\"psw-t-title-l\").text\n",
    "        except:\n",
    "            title = soup.find(\"title\").text\n",
    "        price = soup.find(\"span\", class_=\"psw-t-title-m\").text\n",
    "        titles.append(title)\n",
    "        prices.append(price)\n",
    "    \n",
    "    all_titles.extend(titles)\n",
    "    all_prices.extend(prices)\n",
    "\n",
    "df = pd.DataFrame({\n",
    "    \"title\": all_titles,\n",
    "    \"price\": all_prices\n",
    "})\n",
    "\n",
    "df.to_csv(\"ps4_games.csv\", index=False)"
   ]
  },
  {
   "cell_type": "code",
   "execution_count": 10,
   "metadata": {},
   "outputs": [],
   "source": [
    "was = pd.read_csv(\"./ps4_games_sampai10.csv\")\n",
    "full = pd.concat([was.reset_index(drop=True), df.reset_index(drop=True)], axis=0)\n",
    "\n",
    "full.drop_duplicates(inplace=True)"
   ]
  },
  {
   "cell_type": "code",
   "execution_count": 13,
   "metadata": {},
   "outputs": [
    {
     "data": {
      "text/html": [
       "<div>\n",
       "<style scoped>\n",
       "    .dataframe tbody tr th:only-of-type {\n",
       "        vertical-align: middle;\n",
       "    }\n",
       "\n",
       "    .dataframe tbody tr th {\n",
       "        vertical-align: top;\n",
       "    }\n",
       "\n",
       "    .dataframe thead th {\n",
       "        text-align: right;\n",
       "    }\n",
       "</style>\n",
       "<table border=\"1\" class=\"dataframe\">\n",
       "  <thead>\n",
       "    <tr style=\"text-align: right;\">\n",
       "      <th></th>\n",
       "      <th>title</th>\n",
       "      <th>price</th>\n",
       "    </tr>\n",
       "  </thead>\n",
       "  <tbody>\n",
       "    <tr>\n",
       "      <th>0</th>\n",
       "      <td>Rogue Legacy 2 (Simplified Chinese, English, K...</td>\n",
       "      <td>Rp 349,000</td>\n",
       "    </tr>\n",
       "    <tr>\n",
       "      <th>1</th>\n",
       "      <td>Inscryption (Simplified Chinese, English, Kore...</td>\n",
       "      <td>Rp 279,000</td>\n",
       "    </tr>\n",
       "    <tr>\n",
       "      <th>2</th>\n",
       "      <td>Deus Ex: Mankind Divided (Game)</td>\n",
       "      <td>Rp 102,000</td>\n",
       "    </tr>\n",
       "    <tr>\n",
       "      <th>3</th>\n",
       "      <td>Killing Floor 2 (Simplified Chinese, English, ...</td>\n",
       "      <td>Rp 429,000</td>\n",
       "    </tr>\n",
       "    <tr>\n",
       "      <th>4</th>\n",
       "      <td>Lonely Mountains: Downhill (Simplified Chinese...</td>\n",
       "      <td>Rp 279,000</td>\n",
       "    </tr>\n",
       "    <tr>\n",
       "      <th>...</th>\n",
       "      <td>...</td>\n",
       "      <td>...</td>\n",
       "    </tr>\n",
       "    <tr>\n",
       "      <th>354</th>\n",
       "      <td>DYNASTY WARRIORS 8 Empires full game (Traditio...</td>\n",
       "      <td>Rp 659,000</td>\n",
       "    </tr>\n",
       "    <tr>\n",
       "      <th>355</th>\n",
       "      <td>DEATH STRANDING Standard Digital Edition (Simp...</td>\n",
       "      <td>Included</td>\n",
       "    </tr>\n",
       "    <tr>\n",
       "      <th>356</th>\n",
       "      <td>DEATH STRANDING DIRECTOR’S CUT (Simplified Chi...</td>\n",
       "      <td>Rp 729,000</td>\n",
       "    </tr>\n",
       "    <tr>\n",
       "      <th>357</th>\n",
       "      <td>TRIALS of MANA (Simplified Chinese, Korean, Tr...</td>\n",
       "      <td>Rp 629,000</td>\n",
       "    </tr>\n",
       "    <tr>\n",
       "      <th>358</th>\n",
       "      <td>TRIALS of MANA (English/Japanese Ver.)</td>\n",
       "      <td>Rp 629,000</td>\n",
       "    </tr>\n",
       "  </tbody>\n",
       "</table>\n",
       "<p>359 rows × 2 columns</p>\n",
       "</div>"
      ],
      "text/plain": [
       "                                                 title       price\n",
       "0    Rogue Legacy 2 (Simplified Chinese, English, K...  Rp 349,000\n",
       "1    Inscryption (Simplified Chinese, English, Kore...  Rp 279,000\n",
       "2                      Deus Ex: Mankind Divided (Game)  Rp 102,000\n",
       "3    Killing Floor 2 (Simplified Chinese, English, ...  Rp 429,000\n",
       "4    Lonely Mountains: Downhill (Simplified Chinese...  Rp 279,000\n",
       "..                                                 ...         ...\n",
       "354  DYNASTY WARRIORS 8 Empires full game (Traditio...  Rp 659,000\n",
       "355  DEATH STRANDING Standard Digital Edition (Simp...    Included\n",
       "356  DEATH STRANDING DIRECTOR’S CUT (Simplified Chi...  Rp 729,000\n",
       "357  TRIALS of MANA (Simplified Chinese, Korean, Tr...  Rp 629,000\n",
       "358             TRIALS of MANA (English/Japanese Ver.)  Rp 629,000\n",
       "\n",
       "[359 rows x 2 columns]"
      ]
     },
     "execution_count": 13,
     "metadata": {},
     "output_type": "execute_result"
    }
   ],
   "source": [
    "full.reset_index(drop=True, inplace=True)\n",
    "full"
   ]
  }
 ],
 "metadata": {
  "kernelspec": {
   "display_name": "Python 3",
   "language": "python",
   "name": "python3"
  },
  "language_info": {
   "codemirror_mode": {
    "name": "ipython",
    "version": 3
   },
   "file_extension": ".py",
   "mimetype": "text/x-python",
   "name": "python",
   "nbconvert_exporter": "python",
   "pygments_lexer": "ipython3",
   "version": "3.10.6"
  }
 },
 "nbformat": 4,
 "nbformat_minor": 2
}
